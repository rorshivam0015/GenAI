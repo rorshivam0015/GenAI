{
  "cells": [
    {
      "cell_type": "markdown",
      "metadata": {
        "id": "view-in-github",
        "colab_type": "text"
      },
      "source": [
        "<a href=\"https://colab.research.google.com/github/rorshivam0015/GenAI/blob/main/Modifications_On_image_video_animation_generation.ipynb\" target=\"_parent\"><img src=\"https://colab.research.google.com/assets/colab-badge.svg\" alt=\"Open In Colab\"/></a>"
      ]
    },
    {
      "cell_type": "markdown",
      "source": [
        "# **Title of the Project** : AI Content Generation based on replicate API\n",
        "\n",
        "\n",
        "\n",
        "\n",
        "\n"
      ],
      "metadata": {
        "id": "M49lstKso4R4"
      }
    },
    {
      "cell_type": "markdown",
      "source": [
        "# Project Scope :\n",
        "The project aims to conduct comprehensive data visualization and predictive analysis using a diabetes database to derive insights into the factors influencing diabetes onset. The scope encompasses data preprocessing, exploratory data analysis (EDA), predictive modeling, and the creation of interactive visualizations for effective interpretation and decision-making."
      ],
      "metadata": {
        "id": "ssJFs-pD6jnp"
      }
    },
    {
      "cell_type": "markdown",
      "source": [
        "* Shivam kumar - 4342671\n",
        "\n"
      ],
      "metadata": {
        "id": "-ipdHktp9yIQ"
      }
    },
    {
      "cell_type": "markdown",
      "source": [
        "# Brief Discription :\n",
        "\n",
        "- This project focuses on leveraging advanced data analysis techniques to predict the likelihood of diabetes onset based on various health parameters. By utilizing a comprehensive diabetes dataset, the project aims to develop machine learning models capable of accurately predicting the risk of diabetes in individuals. The dataset includes diverse attributes such as age, BMI etc.\n",
        "\n",
        "- The project comprises two main phases. Firstly, thorough data preprocessing techniques will be employed to handle missing values, outliers, and standardize the data. This phase ensures the dataset's cleanliness and uniformity, preparing it for robust analysis. Secondly, machine learning algorithms like logistic regression, decision trees, and random forests will be implemented to build predictive models. These models will be evaluated and fine-tuned to achieve optimal performance in predicting diabetes onset.\n",
        "\n",
        "- Additionally, the project will emphasize the visualization aspect by creating insightful representations of the dataset. Various visualization techniques, including scatter plots, histograms, heatmaps, and interactive dashboards, will be employed to visually explore relationships between different health parameters and their impact on diabetes prediction. These visualizations will not only aid in understanding the predictive patterns but also facilitate accessible interpretation for healthcare professionals and stakeholders."
      ],
      "metadata": {
        "id": "XidgDIqj7NDd"
      }
    },
    {
      "cell_type": "markdown",
      "source": [
        "# Objectives:\n",
        "\n",
        "* Create an innovative Generative Adversarial Network (GAN) tailored for image and GIF synthesis.\n",
        "* Employ Replicate, utilizing its advanced capabilities to elevate the model's overall performance.\n",
        "* Incorporate API features for smooth integration with external data sources.\n",
        "Attain top-tier outputs in terms of quality and diversity while optimizing for efficiency and scalability.\n",
        "\n",
        "\n",
        "\n",
        "\n",
        "\n"
      ],
      "metadata": {
        "id": "LIMZbAotNgUT"
      }
    },
    {
      "cell_type": "markdown",
      "source": [
        "# Outcomes:\n",
        "\n",
        "* Deliver a state-of-the-art Generative Adversarial Network (GAN) seamlessly integrated with Replicate, showcasing varied and high-fidelity image and GIF generation.\n",
        "* Demonstrate flawless API functionality, ensuring adaptability and versatility with external data inputs.\n",
        "* Validate project success through positive user reviews and measurable performance metrics.\n"
      ],
      "metadata": {
        "id": "ouFrlqNB6ax4"
      }
    },
    {
      "cell_type": "markdown",
      "source": [
        "# Modification /New specification Cell\n",
        "* The modifications include the installation of the replicate library using pip for seamless model execution and content generation on the Replicate platform. Following this, the API token setup is introduced to enable authentication between the Colab notebook and Replicate. Image generation is performed by specifying a prompt and using replicate.run with a pre-trained model. For video/GIF creation, a different model is employed with start and end prompts, output format (GIF), and the ping-pong effect.\n",
        "\n",
        "## Impact:\n",
        "* Enhanced Versatility and Customization:\n",
        "\n",
        " - Importance: The modification using Replicate API is crucial for GenAI as it extends its capabilities by allowing seamless integration with various platforms and tools.\n",
        " - Impact: This enhancement enables GenAI users to customize and tailor their experience by integrating diverse data sources and third-party applications, thereby expanding its utility across different domains and use cases.\n",
        "\n",
        "* Improved Scalability and Performance:\n",
        "\n",
        "   - Importance: Upgrading GenAI with Replicate API facilitates scalability, allowing it to efficiently handle larger datasets and complex computations.\n",
        "   - Impact: This modification enhances GenAI's performance by leveraging Replicate API's capabilities to handle increased data loads, ensuring quicker processing times and improved efficiency for users.\n",
        "\n",
        "* Enabling Interoperability and Collaboration:\n",
        "\n",
        "   - Importance: Integrating Replicate API into GenAI promotes interoperability, fostering collaboration between different systems and users.\n",
        "   - Impact: With this modification, GenAI becomes more adaptable to industry standards and protocols, facilitating seamless data exchange and collaboration between different AI platforms and stakeholders.\n"
      ],
      "metadata": {
        "id": "1FQxZRo5-NXM"
      }
    },
    {
      "cell_type": "markdown",
      "source": [],
      "metadata": {
        "id": "45sfrfaK-cPp"
      }
    },
    {
      "cell_type": "markdown",
      "source": [
        "# Criteria Specific Cell\n",
        "\n",
        "Relevance in Data Visualization for Diabetes Dataset:\n",
        "\n",
        "* Healthcare Significance: The project's primary relevance lies in its direct application to healthcare. Visualizing diabetes-related data allows healthcare professionals to comprehend complex relationships among various health parameters affecting diabetes onset.\n",
        "\n",
        "* Predictive Insights: Through relevant data visualization techniques, the project aims to uncover critical correlations between lifestyle, clinical measurements, and the likelihood of diabetes. This information aids in early prediction and proactive measures for at-risk individuals.\n",
        "\n",
        "* Patient-Centric Approach: By focusing on data visualization, the project aims to empower both healthcare providers and patients. Visual representations enable patients to understand their risk factors better, fostering proactive health management.\n",
        "\n",
        "\n",
        "Innovation:\n",
        "\n",
        "* Advanced Visualization Techniques: Utilizing innovative visualization tools and methods like interactive dashboards, advanced plots, and multidimensional visualizations to present complex diabetes-related data comprehensibly.\n",
        "\n",
        "* Integration of Multiple Data Sources: Innovatively integrating diverse data sources (clinical, lifestyle, demographic) to provide a holistic understanding of diabetes risk factors, enabling a more nuanced predictive analysis.\n",
        "* User-Centric Design: Innovation in user interface and design to create user-friendly visualizations accessible to healthcare professionals, researchers, and individuals concerned about diabetes risk.\n",
        "\n",
        "Technical Proficiency:\n",
        "\n",
        "* Expertise in Data Preprocessing: Proficiency in data preprocessing techniques, including handling missing values, outliers, normalization, and feature engineering to ensure data quality and reliability.\n",
        "Machine Learning Competence: Demonstrating proficiency in implementing various machine learning algorithms for predictive modeling and evaluating their performance using metrics like accuracy, precision, and recall.\n",
        "Visualization Skills: Proficiency in using visualization libraries and tools like Matplotlib, Seaborn, or Plotly to create meaningful, informative, and interactive visual representations for data exploration."
      ],
      "metadata": {
        "id": "LZX1oiB09M9C"
      }
    },
    {
      "cell_type": "markdown",
      "source": [
        "##1.This cell utilizes the pip package manager to install the replicate library, a crucial component for executing models and creating content via the Replicate platform.."
      ],
      "metadata": {
        "id": "03xL0Alon2h6"
      }
    },
    {
      "cell_type": "code",
      "execution_count": null,
      "metadata": {
        "colab": {
          "base_uri": "https://localhost:8080/"
        },
        "id": "K-f4rzIDbk8n",
        "outputId": "d2e8ed5e-e120-420f-92e1-5b33c95492a4"
      },
      "outputs": [
        {
          "output_type": "stream",
          "name": "stdout",
          "text": [
            "Collecting replicate\n",
            "  Downloading replicate-0.21.0-py3-none-any.whl (34 kB)\n",
            "Collecting httpx<1,>=0.21.0 (from replicate)\n",
            "  Downloading httpx-0.25.2-py3-none-any.whl (74 kB)\n",
            "\u001b[2K     \u001b[90m━━━━━━━━━━━━━━━━━━━━━━━━━━━━━━━━━━━━━━━━\u001b[0m \u001b[32m75.0/75.0 kB\u001b[0m \u001b[31m2.9 MB/s\u001b[0m eta \u001b[36m0:00:00\u001b[0m\n",
            "\u001b[?25hRequirement already satisfied: packaging in /usr/local/lib/python3.10/dist-packages (from replicate) (23.2)\n",
            "Requirement already satisfied: pydantic>1 in /usr/local/lib/python3.10/dist-packages (from replicate) (1.10.13)\n",
            "Requirement already satisfied: typing-extensions>=4.5.0 in /usr/local/lib/python3.10/dist-packages (from replicate) (4.5.0)\n",
            "Requirement already satisfied: anyio in /usr/local/lib/python3.10/dist-packages (from httpx<1,>=0.21.0->replicate) (3.7.1)\n",
            "Requirement already satisfied: certifi in /usr/local/lib/python3.10/dist-packages (from httpx<1,>=0.21.0->replicate) (2023.11.17)\n",
            "Collecting httpcore==1.* (from httpx<1,>=0.21.0->replicate)\n",
            "  Downloading httpcore-1.0.2-py3-none-any.whl (76 kB)\n",
            "\u001b[2K     \u001b[90m━━━━━━━━━━━━━━━━━━━━━━━━━━━━━━━━━━━━━━━━\u001b[0m \u001b[32m76.9/76.9 kB\u001b[0m \u001b[31m10.5 MB/s\u001b[0m eta \u001b[36m0:00:00\u001b[0m\n",
            "\u001b[?25hRequirement already satisfied: idna in /usr/local/lib/python3.10/dist-packages (from httpx<1,>=0.21.0->replicate) (3.6)\n",
            "Requirement already satisfied: sniffio in /usr/local/lib/python3.10/dist-packages (from httpx<1,>=0.21.0->replicate) (1.3.0)\n",
            "Collecting h11<0.15,>=0.13 (from httpcore==1.*->httpx<1,>=0.21.0->replicate)\n",
            "  Downloading h11-0.14.0-py3-none-any.whl (58 kB)\n",
            "\u001b[2K     \u001b[90m━━━━━━━━━━━━━━━━━━━━━━━━━━━━━━━━━━━━━━━━\u001b[0m \u001b[32m58.3/58.3 kB\u001b[0m \u001b[31m6.3 MB/s\u001b[0m eta \u001b[36m0:00:00\u001b[0m\n",
            "\u001b[?25hRequirement already satisfied: exceptiongroup in /usr/local/lib/python3.10/dist-packages (from anyio->httpx<1,>=0.21.0->replicate) (1.2.0)\n",
            "Installing collected packages: h11, httpcore, httpx, replicate\n",
            "Successfully installed h11-0.14.0 httpcore-1.0.2 httpx-0.25.2 replicate-0.21.0\n"
          ]
        }
      ],
      "source": [
        "# @title Install Replicate\n",
        "!pip install replicate"
      ]
    },
    {
      "cell_type": "markdown",
      "source": [
        "##2. In this code block, you configure your Replicate API token to facilitate authentication. The API token, acquired from your Replicate account, enables seamless communication between your Colab notebook and the Replicate platform."
      ],
      "metadata": {
        "id": "sFTSpliVoGgA"
      }
    },
    {
      "cell_type": "code",
      "execution_count": null,
      "metadata": {
        "id": "cFmhr3PSf4G2"
      },
      "outputs": [],
      "source": [
        "API = \"r8_RzrxoHRJropstqYv4mtVCxj0cmE6fdH2r7pfk\"\n",
        "import os\n",
        "\n",
        "os.environ[\"REPLICATE_API_TOKEN\"] = API #find it here: https://replicate.com/signin?next=/account/api-tokens\n"
      ]
    },
    {
      "cell_type": "markdown",
      "source": [
        "##3. This code cell produces an image utilizing the Replicate platform. It defines a prompt (\"wearing a VR headset\") and employs the replicate.run function with a pretrained model (stability-ai/stable-diffusion:27b93a2413e7f36cd83da926f3656280b2931564ff050bf9575f1fdf9bcd7478). The resulting image is stored in the output variable.\n",
        "\n",
        "\n",
        "\n",
        "\n",
        "\n"
      ],
      "metadata": {
        "id": "99b2KkrToOPY"
      }
    },
    {
      "cell_type": "code",
      "execution_count": null,
      "metadata": {
        "colab": {
          "base_uri": "https://localhost:8080/"
        },
        "id": "0zz83wA6cqSF",
        "outputId": "d6a77df2-cccc-4a48-f10a-c0e33ba5cdc5"
      },
      "outputs": [
        {
          "output_type": "execute_result",
          "data": {
            "text/plain": [
              "['https://replicate.delivery/pbxt/ZiCQ573koVYONFisFyzZoMjctVtKRhCibVewDdP4IuTbmJfRA/out-0.png']"
            ]
          },
          "metadata": {},
          "execution_count": 3
        }
      ],
      "source": [
        "# @title Generate Image\n",
        "prompt = \"boy with a hat\"\n",
        "import replicate\n",
        "\n",
        "output = replicate.run(\n",
        "  \"stability-ai/stable-diffusion:27b93a2413e7f36cd83da926f3656280b2931564ff050bf9575f1fdf9bcd7478\",\n",
        "  input={\"prompt\":prompt}\n",
        ")\n",
        "\n",
        "output"
      ]
    },
    {
      "cell_type": "markdown",
      "source": [
        "##4. In this cell, the generated image is presented using the IPython Image class. The URL of the image is extracted from the output variable obtained in the preceding cell.\n",
        "\n",
        "\n",
        "\n",
        "\n",
        "\n",
        "\n"
      ],
      "metadata": {
        "id": "0HNTesaHoSYo"
      }
    },
    {
      "cell_type": "code",
      "execution_count": null,
      "metadata": {
        "colab": {
          "base_uri": "https://localhost:8080/",
          "height": 534
        },
        "id": "hwXEISnemCLj",
        "outputId": "e1bf47fe-3083-42a2-adb3-9226da0d4be6"
      },
      "outputs": [
        {
          "output_type": "execute_result",
          "data": {
            "text/html": [
              "<img src=\"https://replicate.delivery/pbxt/ZiCQ573koVYONFisFyzZoMjctVtKRhCibVewDdP4IuTbmJfRA/out-0.png\"/>"
            ],
            "text/plain": [
              "<IPython.core.display.Image object>"
            ]
          },
          "metadata": {},
          "execution_count": 4
        }
      ],
      "source": [
        "\n",
        "from IPython.display import Image\n",
        "output_image = output\n",
        "Image(url=output_image[0])"
      ]
    },
    {
      "cell_type": "markdown",
      "source": [
        "##5. In this cell, a video or GIF animation is produced using an alternative model (andreasjansson/stable-diffusion-animation:ca1f5e306e5721e19c473e0d094e6603f0456fe759c10715fcd6c1b79242d4a5). It defines starting and ending prompts, the desired output format (GIF), and activates the ping-pong effect. The resulting output is stored in the output variable."
      ],
      "metadata": {
        "id": "tlvYwhh7oVq_"
      }
    },
    {
      "cell_type": "code",
      "execution_count": null,
      "metadata": {
        "colab": {
          "base_uri": "https://localhost:8080/"
        },
        "id": "Misa5E4QiWNZ",
        "outputId": "02391cbb-f292-46c5-fb40-587906be7e49"
      },
      "outputs": [
        {
          "output_type": "execute_result",
          "data": {
            "text/plain": [
              "<generator object Prediction.output_iterator at 0x7c59591998c0>"
            ]
          },
          "metadata": {},
          "execution_count": 5
        }
      ],
      "source": [
        "# @title Video/gif/animation/Generation\n",
        "import replicate\n",
        "\n",
        "output = replicate.run(\n",
        "    \"andreasjansson/stable-diffusion-animation:ca1f5e306e5721e19c473e0d094e6603f0456fe759c10715fcd6c1b79242d4a5\",\n",
        "    input={\n",
        "        \"prompt_start\": \"wearing a hat\",\n",
        "        \"prompt_end\": \"Removing a hat\",\n",
        "        \"output_format\": \"gif\",\n",
        "        \"gif_ping_pong\": True\n",
        "    }\n",
        ")\n",
        "\n",
        "output\n"
      ]
    },
    {
      "cell_type": "markdown",
      "source": [
        "## 6. In this cell, the URL link to the produced video is printed. The link is extracted from the output variable and serves as a means to access and view the video content.\n",
        "\n",
        "\n",
        "\n",
        "\n",
        "\n"
      ],
      "metadata": {
        "id": "kNNm0SY7oY1P"
      }
    },
    {
      "cell_type": "code",
      "execution_count": null,
      "metadata": {
        "colab": {
          "base_uri": "https://localhost:8080/"
        },
        "id": "BB0LZJTyjA7Z",
        "outputId": "c68d24c9-4100-4ae6-cd73-32c246dc6d83"
      },
      "outputs": [
        {
          "output_type": "stream",
          "name": "stdout",
          "text": [
            "https://replicate.delivery/pbxt/6iMqdevmYWVQKSq6ROfxv3gypQOGA03wRcam3xBRphHLRTejA/video.gif\n"
          ]
        }
      ],
      "source": [
        "# @title generate video\n",
        "for item in output:\n",
        "     #https://replicate.com/andreasjansson/stable-diffusion-animation/versions/ca1f5e306e5721e19c473e0d094e6603f0456fe759c10715fcd6c1b79242d4a5/api#output-schema\n",
        "    print(item)"
      ]
    },
    {
      "cell_type": "markdown",
      "source": [
        "## 7. In this cell, the URL link to the created video is extracted for subsequent utilization within the Colab notebook.\n",
        "\n",
        "\n",
        "\n",
        "\n",
        "\n"
      ],
      "metadata": {
        "id": "w6fZwjtKoggI"
      }
    },
    {
      "cell_type": "code",
      "execution_count": null,
      "metadata": {
        "id": "fuPgsixhkxM4"
      },
      "outputs": [],
      "source": [
        "# @title get the video on colab\n",
        "gif_url= item[0:len(item)]"
      ]
    },
    {
      "cell_type": "markdown",
      "source": [
        " ## 8. In this section, the notebook retrieves the produced video, showcases it within the notebook, preserves it locally as \"gif_output.gif,\" and opens the saved GIF using the PIL library. If there is an issue with obtaining the GIF, a corresponding message is printed.\n",
        "\n",
        "\n",
        "\n",
        "\n",
        "\n"
      ],
      "metadata": {
        "id": "Hmz6QKmwUmw6"
      }
    },
    {
      "cell_type": "code",
      "execution_count": null,
      "metadata": {
        "colab": {
          "base_uri": "https://localhost:8080/",
          "height": 534
        },
        "id": "6VPPvsE3km93",
        "outputId": "634bba8d-367d-46b9-cee6-36c2948a95fe"
      },
      "outputs": [
        {
          "output_type": "display_data",
          "data": {
            "text/html": [
              "<img src=\"https://replicate.delivery/pbxt/6iMqdevmYWVQKSq6ROfxv3gypQOGA03wRcam3xBRphHLRTejA/video.gif\"/>"
            ],
            "text/plain": [
              "<IPython.core.display.Image object>"
            ]
          },
          "metadata": {}
        }
      ],
      "source": [
        "# @title Show the video\n",
        "import requests\n",
        "from IPython.display import display, Image\n",
        "from PIL import Image as PILImage\n",
        "from io import BytesIO\n",
        "response = requests.get(gif_url)\n",
        "if response.status_code == 200:\n",
        "    # Display the GIF in the notebook\n",
        "    display(Image(url=gif_url))\n",
        "\n",
        "    # Save the GIF in the Colab environment\n",
        "    with open(\"gif_output.gif\", \"wb\") as f:\n",
        "        f.write(response.content)\n",
        "\n",
        "    # Show a saved GIF using PIL\n",
        "    saved_gif = PILImage.open(\"gif_output.gif\")\n",
        "    saved_gif.show()\n",
        "else:\n",
        "    print(\"Failed to fetch GIF\")\n"
      ]
    },
    {
      "cell_type": "markdown",
      "source": [
        "# References\n",
        "\n",
        "* Replicate.  Replicate. https://replicate.com/\n",
        "* AI Animation Generator • AI API, workflow & prompt shared on Gooey.AI. https://gooey.ai/animation-generator/\n",
        "*Module: display — IPython 8.18.1 documentation. https://ipython.readthedocs.io/en/stable/api/generated/IPython.display.html\n",
        "\n"
      ],
      "metadata": {
        "id": "_Lj16ky3-Wip"
      }
    },
    {
      "cell_type": "markdown",
      "source": [
        "# Thank you\n",
        "\n",
        "---"
      ],
      "metadata": {
        "id": "LX6Dmm0EV0DT"
      }
    }
  ],
  "metadata": {
    "colab": {
      "provenance": [],
      "include_colab_link": true
    },
    "kernelspec": {
      "display_name": "Python 3",
      "name": "python3"
    },
    "language_info": {
      "name": "python"
    }
  },
  "nbformat": 4,
  "nbformat_minor": 0
}