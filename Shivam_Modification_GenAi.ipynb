{
  "nbformat": 4,
  "nbformat_minor": 0,
  "metadata": {
    "colab": {
      "provenance": [],
      "include_colab_link": true
    },
    "kernelspec": {
      "name": "python3",
      "display_name": "Python 3"
    },
    "language_info": {
      "name": "python"
    }
  },
  "cells": [
    {
      "cell_type": "markdown",
      "metadata": {
        "id": "view-in-github",
        "colab_type": "text"
      },
      "source": [
        "<a href=\"https://colab.research.google.com/github/rorshivam0015/GenAI/blob/main/Shivam_Modification_GenAi.ipynb\" target=\"_parent\"><img src=\"https://colab.research.google.com/assets/colab-badge.svg\" alt=\"Open In Colab\"/></a>"
      ]
    },
    {
      "cell_type": "markdown",
      "source": [
        "# Title : AI Content Creation Using the Replicates API\n"
      ],
      "metadata": {
        "id": "a8oeaNTHnTAd"
      }
    },
    {
      "cell_type": "markdown",
      "source": [
        "#Project Scope\n",
        "\n",
        "The primary goal of the research is to determine how effectively the Replicate platform functions as an artificial intelligence-powered content producer. We will utilize pre-trained models to create pictures and videos that demonstrate how Replicate may be used for a wide range of creative endeavors.\n",
        "\n",
        "\n",
        "\n",
        "\n",
        "\n",
        "\n",
        "\n"
      ],
      "metadata": {
        "id": "7fTg6bjlnehw"
      }
    },
    {
      "cell_type": "markdown",
      "source": [
        "# Group Members\n",
        "* Shivam kumar - 4342671\n",
        "* Ranjit Singh - 4344565\n"
      ],
      "metadata": {
        "id": "wmCL6QcqO_t9"
      }
    },
    {
      "cell_type": "markdown",
      "source": [
        "# Brief Project Description\n",
        "\n",
        "This review will take a close look at the Replicate platform's features and capabilities. A plethora of Replicate models will be used to demonstrate the many processes involved in the creation of photos and videos. The objectives are to identify the model's strengths, evaluate the data's dependability, and find potential uses.\n",
        "\n",
        "\n",
        "\n",
        "\n",
        "\n",
        "\n",
        "\n",
        "\n",
        "\n",
        "\n",
        "\n",
        "\n"
      ],
      "metadata": {
        "id": "YriYl2mYogaI"
      }
    },
    {
      "cell_type": "markdown",
      "source": [
        "### Project Objective\n",
        "\n",
        "This platform is taken to the next level by using Gen AI's Replicate API. Complex data structures, procedures, and models may be reproduced. In order to facilitate knowledge transfer and application scalability, we want to simplify AI models and make data replication simpler.\n",
        "\n",
        "\n",
        "\n",
        "\n",
        "\n",
        "\n",
        "\n"
      ],
      "metadata": {
        "id": "elcPLIXbpqvc"
      }
    },
    {
      "cell_type": "markdown",
      "source": [
        "### Project Outcome"
      ],
      "metadata": {
        "id": "VbFJWVVzqBH4"
      }
    },
    {
      "cell_type": "markdown",
      "source": [
        "* Gen AI's Replicate API streamlines and simplifies the process of replicating AI datasets and models. Simplifying replication and lowering the quantity of human work required to do that might be possible.\n",
        "\n",
        "* There is a plethora of possibilities as the future AI generation should have no problem replicating complex data structures and AI models.\n",
        "\n",
        "* Gen AI will be able to increase its user base, innovate more quickly, decrease development delays, and improve the user experience with the help of the Replicate API.\n",
        "\n",
        "\n",
        "\n",
        "\n",
        "\n",
        "\n",
        "\n",
        "\n",
        "\n",
        "\n",
        "\n",
        "\n",
        "\n",
        "\n",
        "\n"
      ],
      "metadata": {
        "id": "j4zJpzyBqD-p"
      }
    },
    {
      "cell_type": "markdown",
      "source": [
        "### Modification/New Specification\n",
        "\n",
        "* To begin, provide your Replicate API key. With this, you may begin the process of registering an API. To use the Replicate API's features and authenticate your identity, you'll need this key.\n",
        "\n",
        "* Determine the kind of writing that needs to follow by formulating questions. If you want to picture a tranquil scene with mountains and a lake, you may use phrases like that. In the film industry, names like \"A sunrise over a calm ocean\" and \"The sun setting behind a city skyline.\" are common.\n",
        "\n",
        "* By going to the \"Display\" menu in Google Colab, you can see the films, GIFs, and photographs you've made. This means that the finished product may be seen right away.\n",
        "\n",
        "* These video resources may be enhanced, supplemented, or used for research purposes according to the specific needs and goals of each project.\n",
        "\n",
        "\n",
        "\n",
        "\n",
        "\n"
      ],
      "metadata": {
        "id": "jv5keaSRqgpK"
      }
    },
    {
      "cell_type": "markdown",
      "source": [
        "## Criteria Specific Cell\n",
        "* Advances in algorithmic technology: The Replicate API will make available potentially innovative ways to speed up and optimize the training of AI models. This would reduce the model's convergence time while maintaining or even improving its accuracy.\n",
        "\n",
        "* The merger has allowed for the development of new techniques that optimize the use of existing resources, leading to increased production. With little processing power, users may create professional-grade graphics. The data will be accessible to a far wider audience as a result of this.\n",
        "\n",
        "* Fresh ideas and original proposals: the API allows users to tap into its capabilities to create artistic material. For instance, it is possible to transform textual instructions into visually attractive information. Make use of this to create storyboards, prototypes, or drawings based on your ideas.\n",
        "\n",
        "\n",
        "\n",
        "\n",
        "\n",
        "\n"
      ],
      "metadata": {
        "id": "MShi7xnVBoKh"
      }
    },
    {
      "cell_type": "markdown",
      "source": [
        "## 1. This cell utilizes the pip package manager to install the replicate library, a crucial component for executing models and creating content via the Replicate platform.\n",
        "\n"
      ],
      "metadata": {
        "id": "KscP6qEZsYIM"
      }
    },
    {
      "cell_type": "code",
      "execution_count": null,
      "metadata": {
        "colab": {
          "base_uri": "https://localhost:8080/"
        },
        "id": "sH6k2w4z7-Hw",
        "outputId": "9beaecad-a960-49bb-d8f0-5eae47a04f57"
      },
      "outputs": [
        {
          "output_type": "stream",
          "name": "stdout",
          "text": [
            "Collecting replicate\n",
            "  Downloading replicate-0.21.1-py3-none-any.whl (35 kB)\n",
            "Collecting httpx<1,>=0.21.0 (from replicate)\n",
            "  Downloading httpx-0.25.2-py3-none-any.whl (74 kB)\n",
            "\u001b[2K     \u001b[90m━━━━━━━━━━━━━━━━━━━━━━━━━━━━━━━━━━━━━━━━\u001b[0m \u001b[32m75.0/75.0 kB\u001b[0m \u001b[31m1.4 MB/s\u001b[0m eta \u001b[36m0:00:00\u001b[0m\n",
            "\u001b[?25hRequirement already satisfied: packaging in /usr/local/lib/python3.10/dist-packages (from replicate) (23.2)\n",
            "Requirement already satisfied: pydantic>1 in /usr/local/lib/python3.10/dist-packages (from replicate) (1.10.13)\n",
            "Requirement already satisfied: typing-extensions>=4.5.0 in /usr/local/lib/python3.10/dist-packages (from replicate) (4.5.0)\n",
            "Requirement already satisfied: anyio in /usr/local/lib/python3.10/dist-packages (from httpx<1,>=0.21.0->replicate) (3.7.1)\n",
            "Requirement already satisfied: certifi in /usr/local/lib/python3.10/dist-packages (from httpx<1,>=0.21.0->replicate) (2023.11.17)\n",
            "Collecting httpcore==1.* (from httpx<1,>=0.21.0->replicate)\n",
            "  Downloading httpcore-1.0.2-py3-none-any.whl (76 kB)\n",
            "\u001b[2K     \u001b[90m━━━━━━━━━━━━━━━━━━━━━━━━━━━━━━━━━━━━━━━━\u001b[0m \u001b[32m76.9/76.9 kB\u001b[0m \u001b[31m5.1 MB/s\u001b[0m eta \u001b[36m0:00:00\u001b[0m\n",
            "\u001b[?25hRequirement already satisfied: idna in /usr/local/lib/python3.10/dist-packages (from httpx<1,>=0.21.0->replicate) (3.6)\n",
            "Requirement already satisfied: sniffio in /usr/local/lib/python3.10/dist-packages (from httpx<1,>=0.21.0->replicate) (1.3.0)\n",
            "Collecting h11<0.15,>=0.13 (from httpcore==1.*->httpx<1,>=0.21.0->replicate)\n",
            "  Downloading h11-0.14.0-py3-none-any.whl (58 kB)\n",
            "\u001b[2K     \u001b[90m━━━━━━━━━━━━━━━━━━━━━━━━━━━━━━━━━━━━━━━━\u001b[0m \u001b[32m58.3/58.3 kB\u001b[0m \u001b[31m6.3 MB/s\u001b[0m eta \u001b[36m0:00:00\u001b[0m\n",
            "\u001b[?25hRequirement already satisfied: exceptiongroup in /usr/local/lib/python3.10/dist-packages (from anyio->httpx<1,>=0.21.0->replicate) (1.2.0)\n",
            "Installing collected packages: h11, httpcore, httpx, replicate\n",
            "Successfully installed h11-0.14.0 httpcore-1.0.2 httpx-0.25.2 replicate-0.21.1\n"
          ]
        }
      ],
      "source": [
        "# @title Install Replicate\n",
        "!pip install replicate\n"
      ]
    },
    {
      "cell_type": "markdown",
      "source": [
        "## 2. In this code block, you configure your Replicate API token to facilitate authentication. The API token, acquired from your Replicate account, enables seamless communication between your Colab notebook and the Replicate platform.\n",
        "\n"
      ],
      "metadata": {
        "id": "ppIJUwD6skRB"
      }
    },
    {
      "cell_type": "code",
      "source": [
        "API = \"r8_RzrxoHRJropstqYv4mtVCxj0cmE6fdH2r7pfk\"\n",
        "import os\n",
        "\n",
        "os.environ[\"REPLICATE_API_TOKEN\"] = API #find it here: https://replicate.com/signin?next=/account/api-tokens"
      ],
      "metadata": {
        "id": "FYCtnQZDlqZZ"
      },
      "execution_count": null,
      "outputs": []
    },
    {
      "cell_type": "markdown",
      "source": [
        "## 3) This code cell produces an image utilizing the Replicate platform. It defines a prompt (\"wearing a VR headset\") and employs the replicate.run function with a pretrained model (stability-ai/stable-diffusion:27b93a2413e7f36cd83da926f3656280b2931564ff050bf9575f1fdf9bcd7478). The resulting image is stored in the output variable.\n",
        "\n"
      ],
      "metadata": {
        "id": "ghvyYSHYs1KT"
      }
    },
    {
      "cell_type": "code",
      "source": [
        "# @title Generate Image\n",
        "prompt = \"boy with a hat\"\n",
        "import replicate\n",
        "\n",
        "output = replicate.run(\n",
        "  \"stability-ai/stable-diffusion:27b93a2413e7f36cd83da926f3656280b2931564ff050bf9575f1fdf9bcd7478\",\n",
        "  input={\"prompt\":prompt}\n",
        ")\n",
        "\n",
        "output"
      ],
      "metadata": {
        "id": "HoEceNpTlzjE",
        "outputId": "a6569f54-8801-45e6-f779-42aaa35958e8",
        "colab": {
          "base_uri": "https://localhost:8080/"
        }
      },
      "execution_count": null,
      "outputs": [
        {
          "output_type": "execute_result",
          "data": {
            "text/plain": [
              "['https://replicate.delivery/pbxt/5B8dnRK6mvJeNCRefht4aLfXCBBPHsb1LpqdexXYKzKWm33PC/out-0.png']"
            ]
          },
          "metadata": {},
          "execution_count": 3
        }
      ]
    },
    {
      "cell_type": "markdown",
      "source": [
        "## 4) In this cell, the generated image is presented using the IPython Image class. The URL of the image is extracted from the output variable obtained in the preceding cell.\n",
        "\n"
      ],
      "metadata": {
        "id": "CrfFJWoQtFQa"
      }
    },
    {
      "cell_type": "code",
      "source": [
        "\n",
        "from IPython.display import Image\n",
        "output_image = output\n",
        "Image(url=output_image[0])"
      ],
      "metadata": {
        "id": "eUZbVWswl7OC",
        "outputId": "71f00e05-9785-44d7-86e2-0002a3b42db8",
        "colab": {
          "base_uri": "https://localhost:8080/",
          "height": 533
        }
      },
      "execution_count": null,
      "outputs": [
        {
          "output_type": "execute_result",
          "data": {
            "text/html": [
              "<img src=\"https://replicate.delivery/pbxt/5B8dnRK6mvJeNCRefht4aLfXCBBPHsb1LpqdexXYKzKWm33PC/out-0.png\"/>"
            ],
            "text/plain": [
              "<IPython.core.display.Image object>"
            ]
          },
          "metadata": {},
          "execution_count": 4
        }
      ]
    },
    {
      "cell_type": "markdown",
      "source": [
        "## 5) In this cell, a video or GIF animation is produced using an alternative model (andreasjansson/stable-diffusion-animation:ca1f5e306e5721e19c473e0d094e6603f0456fe759c10715fcd6c1b79242d4a5). It defines starting and ending prompts, the desired output format (GIF), and activates the ping-pong effect. The resulting output is stored in the output variable.\n",
        "\n",
        "\n"
      ],
      "metadata": {
        "id": "Uieqe7AYtTSN"
      }
    },
    {
      "cell_type": "code",
      "source": [
        "# @title Video/gif/animation/Generation\n",
        "import replicate\n",
        "\n",
        "output = replicate.run(\n",
        "    \"andreasjansson/stable-diffusion-animation:ca1f5e306e5721e19c473e0d094e6603f0456fe759c10715fcd6c1b79242d4a5\",\n",
        "    input={\n",
        "        \"prompt_start\": \"wearing a hat\",\n",
        "        \"prompt_end\": \"Removing a hat\",\n",
        "        \"output_format\": \"gif\",\n",
        "        \"gif_ping_pong\": True\n",
        "    }\n",
        ")\n",
        "\n",
        "output\n"
      ],
      "metadata": {
        "id": "6e9xdZavl-h1",
        "outputId": "c728c9ab-991f-4fc2-868b-9c5230db0aef",
        "colab": {
          "base_uri": "https://localhost:8080/"
        }
      },
      "execution_count": null,
      "outputs": [
        {
          "output_type": "execute_result",
          "data": {
            "text/plain": [
              "<generator object Prediction.output_iterator at 0x78dfae890d60>"
            ]
          },
          "metadata": {},
          "execution_count": 5
        }
      ]
    },
    {
      "cell_type": "markdown",
      "source": [
        "## 6) In this cell, the URL link to the produced video is printed. The link is extracted from the output variable and serves as a means to access and view the video content.\n",
        "\n",
        "\n"
      ],
      "metadata": {
        "id": "eaVUkcx3tnUg"
      }
    },
    {
      "cell_type": "code",
      "source": [
        "# @title generate video\n",
        "for item in output:\n",
        "     #https://replicate.com/andreasjansson/stable-diffusion-animation/versions/ca1f5e306e5721e19c473e0d094e6603f0456fe759c10715fcd6c1b79242d4a5/api#output-schema\n",
        "    print(item)"
      ],
      "metadata": {
        "id": "RAGe2-zRmMKP",
        "outputId": "3f2783d4-61ce-4659-e929-a8335543c2db",
        "colab": {
          "base_uri": "https://localhost:8080/"
        }
      },
      "execution_count": null,
      "outputs": [
        {
          "output_type": "stream",
          "name": "stdout",
          "text": [
            "https://replicate.delivery/pbxt/tSTrc3zxJ8p7F5fsDRPfAEeT6snvefH5Q3G81708cIKnG43PC/video.gif\n"
          ]
        }
      ]
    },
    {
      "cell_type": "markdown",
      "source": [
        "## 7) In this cell, the URL link to the created video is extracted for subsequent utilization within the Colab notebook.\n",
        "\n"
      ],
      "metadata": {
        "id": "OZATf-fpz0s2"
      }
    },
    {
      "cell_type": "code",
      "source": [
        "# @title get the video on colab\n",
        "gif_url= item[0:len(item)]"
      ],
      "metadata": {
        "id": "EgeEX5q2mO5c"
      },
      "execution_count": null,
      "outputs": []
    },
    {
      "cell_type": "markdown",
      "source": [
        "## 8) In this section, the notebook retrieves the produced video, showcases it within the notebook, preserves it locally as \"gif_output.gif,\" and opens the saved GIF using the PIL library. If there is an issue with obtaining the GIF, a corresponding message is printed.\n",
        "\n",
        "\n"
      ],
      "metadata": {
        "id": "NowA6oRDz75A"
      }
    },
    {
      "cell_type": "code",
      "source": [
        "# @title Show the video\n",
        "import requests\n",
        "from IPython.display import display, Image\n",
        "from PIL import Image as PILImage\n",
        "from io import BytesIO\n",
        "response = requests.get(gif_url)\n",
        "if response.status_code == 200:\n",
        "    # Display the GIF in the notebook\n",
        "    display(Image(url=gif_url))\n",
        "\n",
        "    # Save the GIF in the Colab environment\n",
        "    with open(\"gif_output.gif\", \"wb\") as f:\n",
        "        f.write(response.content)\n",
        "\n",
        "    # Show a saved GIF using PIL\n",
        "    saved_gif = PILImage.open(\"gif_output.gif\")\n",
        "    saved_gif.show()\n",
        "else:\n",
        "    print(\"Failed to fetch GIF\")\n"
      ],
      "metadata": {
        "id": "6DHW7LtFmXzG",
        "outputId": "e4bced16-a53d-4617-ddeb-4322c4482fbc",
        "colab": {
          "base_uri": "https://localhost:8080/",
          "height": 533
        }
      },
      "execution_count": null,
      "outputs": [
        {
          "output_type": "display_data",
          "data": {
            "text/html": [
              "<img src=\"https://replicate.delivery/pbxt/tSTrc3zxJ8p7F5fsDRPfAEeT6snvefH5Q3G81708cIKnG43PC/video.gif\"/>"
            ],
            "text/plain": [
              "<IPython.core.display.Image object>"
            ]
          },
          "metadata": {}
        }
      ]
    },
    {
      "cell_type": "markdown",
      "source": [
        "# Reference\n",
        "\n",
        "\n",
        "* Replicate.  Replicate. https://replicate.com/\n",
        "* AI Animation Generator • AI API, workflow & prompt shared on Gooey.AI. https://gooey.ai/animation-generator/\n",
        "* Module: display — IPython 8.18.1 documentation. https://ipython.readthedocs.io/en/stable/api/generated/IPython.display.html\n",
        "\n",
        "\n"
      ],
      "metadata": {
        "id": "9hx-49sf0ECp"
      }
    },
    {
      "cell_type": "markdown",
      "source": [
        "# Video Link\n"
      ],
      "metadata": {
        "id": "gAieFQhW0YAO"
      }
    },
    {
      "cell_type": "markdown",
      "source": [
        "THANKYOU\n",
        "\n"
      ],
      "metadata": {
        "id": "CJwKjZec0aCp"
      }
    }
  ]
}